{
 "cells": [
  {
   "cell_type": "code",
   "execution_count": 1,
   "metadata": {},
   "outputs": [
    {
     "data": {
      "text/plain": [
       "'\\nEx1:\\nCâu 1: SEM\\nTính SEM của sample distribution với standard deviation = 38 và sample size là 45.\\nTính SEM của dữ liệu sau: 14, 8, 11, 12, 16, 10\\nMột số điểm IQ như sau: 96, 104, 126, 134, 140. Tính SEM.\\nCâu 2: Confidence Interval và Levels¶\\nLấy mẫu ngẫu nhiên 100 cây giống có chiều cao trung bình là 7.5 inch, độ lệch chuẩn 2.3 inch. Với mức độ tin cậy 95%, thì CI sẽ nằm trong khoảng nào? Vẽ histogram thể hiện sự phân phối.\\nCho dữ liệu people.txt chứa nhiệt độ, giới tính, nhịp tim của 130 người từ Journal of Statistics Education (Shoemaker 1996). Đọc dữ liệu từ tập tin nói trên, lấy toàn bộ cột Tempt. Với mức độ tin cậy 95%, thì CI sẽ nằm trong khoảng nào?\\n'"
      ]
     },
     "execution_count": 1,
     "metadata": {},
     "output_type": "execute_result"
    }
   ],
   "source": [
    "'''\n",
    "Ex1:\n",
    "Câu 1: SEM\n",
    "Tính SEM của sample distribution với standard deviation = 38 và sample size là 45.\n",
    "Tính SEM của dữ liệu sau: 14, 8, 11, 12, 16, 10\n",
    "Một số điểm IQ như sau: 96, 104, 126, 134, 140. Tính SEM.\n",
    "Câu 2: Confidence Interval và Levels¶\n",
    "Lấy mẫu ngẫu nhiên 100 cây giống có chiều cao trung bình là 7.5 inch, độ lệch chuẩn 2.3 inch. Với mức độ tin cậy 95%, thì CI sẽ nằm trong khoảng nào? Vẽ histogram thể hiện sự phân phối.\n",
    "Cho dữ liệu people.txt chứa nhiệt độ, giới tính, nhịp tim của 130 người từ Journal of Statistics Education (Shoemaker 1996). Đọc dữ liệu từ tập tin nói trên, lấy toàn bộ cột Tempt. Với mức độ tin cậy 95%, thì CI sẽ nằm trong khoảng nào?\n",
    "'''\n"
   ]
  },
  {
   "cell_type": "code",
   "execution_count": 2,
   "metadata": {},
   "outputs": [],
   "source": [
    "import numpy as np\n",
    "from scipy.stats import sem"
   ]
  },
  {
   "cell_type": "code",
   "execution_count": 3,
   "metadata": {},
   "outputs": [
    {
     "data": {
      "text/plain": [
       "5.664705542999467"
      ]
     },
     "execution_count": 3,
     "metadata": {},
     "output_type": "execute_result"
    }
   ],
   "source": [
    "# câu 1\n",
    "s = 38\n",
    "n = 45\n",
    "SEM = s/(n**0.5)\n",
    "SEM"
   ]
  },
  {
   "cell_type": "code",
   "execution_count": 4,
   "metadata": {},
   "outputs": [
    {
     "data": {
      "text/plain": [
       "1.166666666666667"
      ]
     },
     "execution_count": 4,
     "metadata": {},
     "output_type": "execute_result"
    }
   ],
   "source": [
    "# Câu 2\n",
    "data = np.array([14, 8, 11, 12, 16, 10])\n",
    "SEM = sem(data)\n",
    "SEM"
   ]
  },
  {
   "cell_type": "code",
   "execution_count": 5,
   "metadata": {},
   "outputs": [
    {
     "data": {
      "text/plain": [
       "8.555699854482976"
      ]
     },
     "execution_count": 5,
     "metadata": {},
     "output_type": "execute_result"
    }
   ],
   "source": [
    "# Câu 3\n",
    "IQ = np.array([96, 104, 126, 134, 140])\n",
    "SEM = sem(IQ)\n",
    "SEM"
   ]
  },
  {
   "cell_type": "code",
   "execution_count": 6,
   "metadata": {},
   "outputs": [],
   "source": [
    "# Câu 1\n",
    "mu = 7.5\n",
    "stdev = 2.3\n",
    "n = 100\n",
    "while True:\n",
    "    heights = np.random.normal(mu, stdev, n)\n",
    "    if abs(mu - np.mean(heights)) < 0.01:\n",
    "        break"
   ]
  },
  {
   "cell_type": "code",
   "execution_count": 7,
   "metadata": {},
   "outputs": [
    {
     "data": {
      "text/plain": [
       "array([ 7.46474522,  5.23823325, 12.65342632,  8.54191208,  7.11465946,\n",
       "        2.61341721,  8.65060946,  5.96019386,  5.77224032,  5.00580393,\n",
       "        8.8265865 ,  4.21226612,  8.85989564,  8.08039651, 10.78582716,\n",
       "        7.54352716,  8.1602872 , 11.52722738,  6.09147755,  8.5249512 ,\n",
       "        7.1197138 ,  6.30963752,  6.95499684,  8.74771014,  8.7326748 ,\n",
       "        7.06097118,  9.17193917,  8.66878635,  8.03843314,  9.19761383,\n",
       "        7.26012817,  6.69777204,  8.00517336,  9.9703439 ,  6.35974529,\n",
       "       11.72224048,  3.46580263,  5.85225222, 10.64722232,  7.24235809,\n",
       "        9.26165151, 10.79420124,  8.09274111,  7.20836951,  7.2272906 ,\n",
       "        6.5510735 ,  4.67399529,  8.02185394,  5.41222076,  6.95994785,\n",
       "        8.00489027, 11.71085165, 12.38228438, 12.53210263,  8.99696117,\n",
       "        6.6303125 ,  4.96418844,  9.02960752,  4.84771969,  7.6060025 ,\n",
       "        8.73345699,  5.7690724 ,  8.58249081,  6.2211664 ,  6.5620905 ,\n",
       "        7.78233262,  9.27749518,  8.34483954, 10.98859508,  6.29503352,\n",
       "        7.04122853,  7.91347578,  4.40517405,  7.56463218,  2.8854372 ,\n",
       "       10.23788701,  6.773576  ,  5.6504617 ,  7.50962263,  6.64486575,\n",
       "        6.3690791 ,  1.57188603,  4.92281325,  6.62484095,  5.52891584,\n",
       "        7.0537076 ,  9.72514749,  7.15885235,  8.30451362,  7.10470463,\n",
       "        5.54379946,  8.42375665,  6.28555203,  8.23473399,  7.89338752,\n",
       "        5.90589439,  7.37385969,  6.15691243,  9.24851396,  6.19367372])"
      ]
     },
     "execution_count": 7,
     "metadata": {},
     "output_type": "execute_result"
    }
   ],
   "source": [
    "heights"
   ]
  },
  {
   "cell_type": "code",
   "execution_count": 9,
   "metadata": {},
   "outputs": [
    {
     "data": {
      "image/png": "[encoded data removed]",
      "text/plain": [
       "<Figure size 432x288 with 1 Axes>"
      ]
     },
     "metadata": {
      "needs_background": "light"
     },
     "output_type": "display_data"
    }
   ],
   "source": [
    "import matplotlib.pyplot as plt\n",
    "plt.hist(heights)\n",
    "plt.show()"
   ]
  },
  {
   "cell_type": "code",
   "execution_count": 14,
   "metadata": {},
   "outputs": [],
   "source": [
    "import scipy.stats\n",
    "def mean_confidence_interval(data, confidence=0.95):\n",
    "    a = 1.0 * np.array(data)\n",
    "    n = len(a)\n",
    "    m, se = np.mean(a), scipy.stats.sem(a)\n",
    "    h = se * scipy.stats.t.ppf((1 + confidence) / 2., n-1)\n",
    "    return m, h, m-h, m+h"
   ]
  },
  {
   "cell_type": "code",
   "execution_count": 15,
   "metadata": {},
   "outputs": [
    {
     "data": {
      "text/plain": [
       "(7.505689433866429, 0.41628085673463017, 7.089408577131799, 7.92197029060106)"
      ]
     },
     "execution_count": 15,
     "metadata": {},
     "output_type": "execute_result"
    }
   ],
   "source": [
    "confidence = 0.95\n",
    "mean, CI, low, high = mean_confidence_interval(heights, confidence)\n",
    "mean, CI, low, high"
   ]
  },
  {
   "cell_type": "code",
   "execution_count": 17,
   "metadata": {},
   "outputs": [
    {
     "ename": "NameError",
     "evalue": "name 'pandas' is not defined",
     "output_type": "error",
     "traceback": [
      "\u001b[1;31m---------------------------------------------------------------------------\u001b[0m",
      "\u001b[1;31mNameError\u001b[0m                                 Traceback (most recent call last)",
      "\u001b[1;32m<ipython-input-17-af767d9c9274>\u001b[0m in \u001b[0;36m<module>\u001b[1;34m\u001b[0m\n\u001b[0;32m      4\u001b[0m \u001b[0mtempt\u001b[0m \u001b[1;33m=\u001b[0m \u001b[0mdata\u001b[0m\u001b[1;33m[\u001b[0m\u001b[1;36m0\u001b[0m\u001b[1;33m]\u001b[0m\u001b[1;33m\u001b[0m\u001b[1;33m\u001b[0m\u001b[0m\n\u001b[0;32m      5\u001b[0m \u001b[0mtype\u001b[0m\u001b[1;33m(\u001b[0m\u001b[0mtempt\u001b[0m\u001b[1;33m)\u001b[0m\u001b[1;33m\u001b[0m\u001b[1;33m\u001b[0m\u001b[0m\n\u001b[1;32m----> 6\u001b[1;33m \u001b[0mpandas\u001b[0m\u001b[1;33m.\u001b[0m\u001b[0mcore\u001b[0m\u001b[1;33m.\u001b[0m\u001b[0mseries\u001b[0m\u001b[1;33m.\u001b[0m\u001b[0mSeries\u001b[0m\u001b[1;33m\u001b[0m\u001b[1;33m\u001b[0m\u001b[0m\n\u001b[0m\u001b[0;32m      7\u001b[0m \u001b[0mconfidence\u001b[0m \u001b[1;33m=\u001b[0m \u001b[1;36m0.95\u001b[0m\u001b[1;33m\u001b[0m\u001b[1;33m\u001b[0m\u001b[0m\n\u001b[0;32m      8\u001b[0m \u001b[0mmean\u001b[0m\u001b[1;33m,\u001b[0m \u001b[0mCI\u001b[0m\u001b[1;33m,\u001b[0m \u001b[0mlow\u001b[0m\u001b[1;33m,\u001b[0m \u001b[0mhigh\u001b[0m \u001b[1;33m=\u001b[0m \u001b[0mmean_confidence_interval\u001b[0m\u001b[1;33m(\u001b[0m\u001b[0mtempt\u001b[0m\u001b[1;33m,\u001b[0m \u001b[0mconfidence\u001b[0m\u001b[1;33m)\u001b[0m\u001b[1;33m\u001b[0m\u001b[1;33m\u001b[0m\u001b[0m\n",
      "\u001b[1;31mNameError\u001b[0m: name 'pandas' is not defined"
     ]
    }
   ],
   "source": [
    "import pandas as pd\n",
    "# Câu 2\n",
    "data = pd.read_csv(\"Normtemp.txt\", header=None, sep=\" \")\n",
    "tempt = data[0]\n",
    "type(tempt)\n",
    "pandas.core.series.Series\n",
    "confidence = 0.95\n",
    "mean, CI, low, high = mean_confidence_interval(tempt, confidence)\n",
    "mean, CI, low, high"
   ]
  },
  {
   "cell_type": "code",
   "execution_count": null,
   "metadata": {},
   "outputs": [],
   "source": []
  }
 ],
 "metadata": {
  "kernelspec": {
   "display_name": "Python 3",
   "language": "python",
   "name": "python3"
  },
  "language_info": {
   "codemirror_mode": {
    "name": "ipython",
    "version": 3
   },
   "file_extension": ".py",
   "mimetype": "text/x-python",
   "name": "python",
   "nbconvert_exporter": "python",
   "pygments_lexer": "ipython3",
   "version": "3.7.4"
  }
 },
 "nbformat": 4,
 "nbformat_minor": 2
}
