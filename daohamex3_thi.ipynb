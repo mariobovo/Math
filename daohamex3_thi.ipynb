{
 "cells": [
  {
   "cell_type": "code",
   "execution_count": 1,
   "metadata": {},
   "outputs": [],
   "source": [
    "import sympy\n",
    "from scipy.misc import derivative"
   ]
  },
  {
   "cell_type": "code",
   "execution_count": 2,
   "metadata": {},
   "outputs": [],
   "source": [
    "#ex1\n",
    "x = sympy.Symbol('x')\n",
    "y = sympy.Symbol('y')\n",
    "f_f = 4*(x**3) + 3*(x**2)\n",
    "f_prime = sympy.diff(f_f, x)"
   ]
  },
  {
   "cell_type": "code",
   "execution_count": 3,
   "metadata": {},
   "outputs": [
    {
     "data": {
      "text/latex": [
       "$\\displaystyle 12 x^{2} + 6 x$"
      ],
      "text/plain": [
       "12*x**2 + 6*x"
      ]
     },
     "execution_count": 3,
     "metadata": {},
     "output_type": "execute_result"
    }
   ],
   "source": [
    "f_prime"
   ]
  },
  {
   "cell_type": "code",
   "execution_count": 4,
   "metadata": {},
   "outputs": [
    {
     "data": {
      "text/latex": [
       "$\\displaystyle 30 x^{5} + 4$"
      ],
      "text/plain": [
       "30*x**5 + 4"
      ]
     },
     "execution_count": 4,
     "metadata": {},
     "output_type": "execute_result"
    }
   ],
   "source": [
    "g_f = 5*(x**6) + 4*x\n",
    "g_prime = sympy.diff(g_f, x)\n",
    "g_prime"
   ]
  },
  {
   "cell_type": "code",
   "execution_count": 5,
   "metadata": {},
   "outputs": [
    {
     "data": {
      "text/latex": [
       "$\\displaystyle \\left(12 x^{2} + 6 x\\right) \\left(5 x^{6} + 4 x\\right) + \\left(4 x^{3} + 3 x^{2}\\right) \\left(30 x^{5} + 4\\right)$"
      ],
      "text/plain": [
       "(12*x**2 + 6*x)*(5*x**6 + 4*x) + (4*x**3 + 3*x**2)*(30*x**5 + 4)"
      ]
     },
     "execution_count": 5,
     "metadata": {},
     "output_type": "execute_result"
    }
   ],
   "source": [
    "fg_f = (4*(x**3) + 3*(x**2)) * (5*(x**6) + 4*x)\n",
    "fg_prime = sympy.diff(fg_f, x)\n",
    "fg_prime"
   ]
  },
  {
   "cell_type": "code",
   "execution_count": 6,
   "metadata": {},
   "outputs": [
    {
     "data": {
      "text/latex": [
       "$\\displaystyle 62096$"
      ],
      "text/plain": [
       "62096"
      ]
     },
     "execution_count": 6,
     "metadata": {},
     "output_type": "execute_result"
    }
   ],
   "source": [
    "fg_prime_value =fg_prime.subs({x:2})\n",
    "fg_prime_value"
   ]
  },
  {
   "cell_type": "code",
   "execution_count": 7,
   "metadata": {},
   "outputs": [
    {
     "data": {
      "text/latex": [
       "$\\displaystyle 60$"
      ],
      "text/plain": [
       "60"
      ]
     },
     "execution_count": 7,
     "metadata": {},
     "output_type": "execute_result"
    }
   ],
   "source": [
    "f_prime_value = f_prime.subs({x:2})\n",
    "f_prime_value"
   ]
  },
  {
   "cell_type": "code",
   "execution_count": 9,
   "metadata": {},
   "outputs": [
    {
     "data": {
      "text/latex": [
       "$\\displaystyle 964$"
      ],
      "text/plain": [
       "964"
      ]
     },
     "execution_count": 9,
     "metadata": {},
     "output_type": "execute_result"
    }
   ],
   "source": [
    "g_prime_value = g_prime.subs({x:2})\n",
    "g_prime_value"
   ]
  },
  {
   "cell_type": "code",
   "execution_count": 10,
   "metadata": {},
   "outputs": [
    {
     "data": {
      "text/latex": [
       "$\\displaystyle 57840$"
      ],
      "text/plain": [
       "57840"
      ]
     },
     "execution_count": 10,
     "metadata": {},
     "output_type": "execute_result"
    }
   ],
   "source": [
    "fprime_gprime = f_prime_value * g_prime_value\n",
    "fprime_gprime"
   ]
  },
  {
   "cell_type": "code",
   "execution_count": 11,
   "metadata": {},
   "outputs": [],
   "source": [
    "def f(x):\n",
    "    return 4*(x**3) + 3*(x**2)\n",
    "def g(x):\n",
    "    return 5*(x**6) + 4*x"
   ]
  },
  {
   "cell_type": "code",
   "execution_count": 12,
   "metadata": {},
   "outputs": [
    {
     "data": {
      "text/plain": [
       "62096.008264234115"
      ]
     },
     "execution_count": 12,
     "metadata": {},
     "output_type": "execute_result"
    }
   ],
   "source": [
    "x = 2\n",
    "fg_prime_of_x = derivative(f, x, dx=1e-10)*g(x) + f(x)*derivative(g, x, dx=1e-10)\n",
    "fg_prime_of_x"
   ]
  },
  {
   "cell_type": "code",
   "execution_count": 13,
   "metadata": {},
   "outputs": [
    {
     "data": {
      "text/plain": [
       "57840.01383466328"
      ]
     },
     "execution_count": 13,
     "metadata": {},
     "output_type": "execute_result"
    }
   ],
   "source": [
    "f_prime_g_prime_of_x = derivative(f, x, dx=1e-10) * derivative(g, x, dx=1e-10)\n",
    "f_prime_g_prime_of_x"
   ]
  },
  {
   "cell_type": "code",
   "execution_count": 14,
   "metadata": {},
   "outputs": [
    {
     "data": {
      "text/latex": [
       "$\\displaystyle \\frac{0.666666666666667 \\left(- x^{2} + 2 x\\right)}{x^{0.333333333333333}} + x^{0.666666666666667} \\left(2 - 2 x\\right)$"
      ],
      "text/plain": [
       "0.666666666666667*x**(-0.333333333333333)*(-x**2 + 2*x) + x**0.666666666666667*(2 - 2*x)"
      ]
     },
     "execution_count": 14,
     "metadata": {},
     "output_type": "execute_result"
    }
   ],
   "source": [
    "#cau2\n",
    "x = sympy.Symbol('x')\n",
    "y = sympy.Symbol('y')\n",
    "h_f = x**(2/3) * (2*x - x**2)\n",
    "h_prime = sympy.diff(h_f, x)\n",
    "h_prime"
   ]
  },
  {
   "cell_type": "code",
   "execution_count": 15,
   "metadata": {},
   "outputs": [
    {
     "data": {
      "text/latex": [
       "$\\displaystyle 60 x^{3} - 10 x + \\left(10 x - 20\\right) \\left(18 x^{2} - 1\\right)$"
      ],
      "text/plain": [
       "60*x**3 - 10*x + (10*x - 20)*(18*x**2 - 1)"
      ]
     },
     "execution_count": 15,
     "metadata": {},
     "output_type": "execute_result"
    }
   ],
   "source": [
    "k_f = (6*x**3 - x) * (10*x - 20)\n",
    "k_prime = sympy.diff(k_f, x)\n",
    "k_prime"
   ]
  },
  {
   "cell_type": "code",
   "execution_count": 16,
   "metadata": {},
   "outputs": [
    {
     "data": {
      "text/latex": [
       "$\\displaystyle \\frac{0.666666666666667 \\left(10 x - 20\\right) \\left(- x^{2} + 2 x\\right) \\left(6 x^{3} - x\\right)}{x^{0.333333333333333}} + x^{0.666666666666667} \\left(2 - 2 x\\right) \\left(10 x - 20\\right) \\left(6 x^{3} - x\\right) + x^{0.666666666666667} \\left(10 x - 20\\right) \\left(- x^{2} + 2 x\\right) \\left(18 x^{2} - 1\\right) + 10 x^{0.666666666666667} \\left(- x^{2} + 2 x\\right) \\left(6 x^{3} - x\\right)$"
      ],
      "text/plain": [
       "0.666666666666667*x**(-0.333333333333333)*(10*x - 20)*(-x**2 + 2*x)*(6*x**3 - x) + x**0.666666666666667*(2 - 2*x)*(10*x - 20)*(6*x**3 - x) + x**0.666666666666667*(10*x - 20)*(-x**2 + 2*x)*(18*x**2 - 1) + 10*x**0.666666666666667*(-x**2 + 2*x)*(6*x**3 - x)"
      ]
     },
     "execution_count": 16,
     "metadata": {},
     "output_type": "execute_result"
    }
   ],
   "source": [
    "hk_f = (x**(2/3) * (2*x - x**2)) * ((6*x**3 - x) * (10*x - 20))\n",
    "hk_prime = sympy.diff(hk_f, x)\n",
    "hk_prime"
   ]
  },
  {
   "cell_type": "code",
   "execution_count": 17,
   "metadata": {},
   "outputs": [
    {
     "data": {
      "text/latex": [
       "$\\displaystyle -35403.0266683434$"
      ],
      "text/plain": [
       "-35403.0266683434"
      ]
     },
     "execution_count": 17,
     "metadata": {},
     "output_type": "execute_result"
    }
   ],
   "source": [
    "hk_prime_value =hk_prime.subs({x:3})\n",
    "hk_prime_value"
   ]
  },
  {
   "cell_type": "code",
   "execution_count": 18,
   "metadata": {},
   "outputs": [
    {
     "data": {
      "text/latex": [
       "$\\displaystyle -9.70705784090889$"
      ],
      "text/plain": [
       "-9.70705784090889"
      ]
     },
     "execution_count": 18,
     "metadata": {},
     "output_type": "execute_result"
    }
   ],
   "source": [
    "h_prime_value = h_prime.subs({x:3})\n",
    "h_prime_value"
   ]
  },
  {
   "cell_type": "code",
   "execution_count": 19,
   "metadata": {},
   "outputs": [
    {
     "data": {
      "text/latex": [
       "$\\displaystyle 3200$"
      ],
      "text/plain": [
       "3200"
      ]
     },
     "execution_count": 19,
     "metadata": {},
     "output_type": "execute_result"
    }
   ],
   "source": [
    "k_prime_value = k_prime.subs({x:3})\n",
    "k_prime_value"
   ]
  },
  {
   "cell_type": "code",
   "execution_count": 20,
   "metadata": {},
   "outputs": [
    {
     "data": {
      "text/latex": [
       "$\\displaystyle -31062.5850909084$"
      ],
      "text/plain": [
       "-31062.5850909084"
      ]
     },
     "execution_count": 20,
     "metadata": {},
     "output_type": "execute_result"
    }
   ],
   "source": [
    "hprime_kprime = h_prime_value * k_prime_value\n",
    "hprime_kprime"
   ]
  },
  {
   "cell_type": "code",
   "execution_count": 22,
   "metadata": {},
   "outputs": [],
   "source": [
    "def h(x):\n",
    "    return x**(2/3) * (2*x - x**2)\n",
    "def k(x):\n",
    "    return (6*x**3 - x) * (10*x - 20)"
   ]
  },
  {
   "cell_type": "code",
   "execution_count": 23,
   "metadata": {},
   "outputs": [
    {
     "data": {
      "text/plain": [
       "-35403.020460254425"
      ]
     },
     "execution_count": 23,
     "metadata": {},
     "output_type": "execute_result"
    }
   ],
   "source": [
    "x = 3\n",
    "hk_prime_of_x = derivative(h, x, dx=1e-10)*k(x) + h(x)*derivative(k, x, dx=1e-10)\n",
    "hk_prime_of_x"
   ]
  },
  {
   "cell_type": "code",
   "execution_count": 24,
   "metadata": {},
   "outputs": [
    {
     "data": {
      "text/plain": [
       "-31062.578326085917"
      ]
     },
     "execution_count": 24,
     "metadata": {},
     "output_type": "execute_result"
    }
   ],
   "source": [
    "h_prime_k_prime_of_x = derivative(h, x, dx=1e-10) * derivative(k, x, dx=1e-10)\n",
    "h_prime_k_prime_of_x"
   ]
  },
  {
   "cell_type": "code",
   "execution_count": 25,
   "metadata": {},
   "outputs": [],
   "source": [
    "#cau3 \n",
    "x = sympy.Symbol('x')"
   ]
  },
  {
   "cell_type": "code",
   "execution_count": 36,
   "metadata": {},
   "outputs": [],
   "source": [
    "w_x=4/x**6\n",
    "t_x=x**6/5\n",
    "wt_x=(4/x**6) * (x**6/5)"
   ]
  },
  {
   "cell_type": "code",
   "execution_count": 27,
   "metadata": {},
   "outputs": [
    {
     "data": {
      "text/latex": [
       "$\\displaystyle - \\frac{24}{x^{7}}$"
      ],
      "text/plain": [
       "-24/x**7"
      ]
     },
     "execution_count": 27,
     "metadata": {},
     "output_type": "execute_result"
    }
   ],
   "source": [
    "w_prime = sympy.diff(w_x, x)\n",
    "w_prime "
   ]
  },
  {
   "cell_type": "code",
   "execution_count": 30,
   "metadata": {},
   "outputs": [
    {
     "data": {
      "text/latex": [
       "$\\displaystyle \\frac{6 x^{5}}{5}$"
      ],
      "text/plain": [
       "6*x**5/5"
      ]
     },
     "execution_count": 30,
     "metadata": {},
     "output_type": "execute_result"
    }
   ],
   "source": [
    "t_prime = sympy.diff(t_x, x)\n",
    "t_prime "
   ]
  },
  {
   "cell_type": "code",
   "execution_count": 31,
   "metadata": {},
   "outputs": [
    {
     "data": {
      "text/latex": [
       "$\\displaystyle - \\frac{8}{729}$"
      ],
      "text/plain": [
       "-8/729"
      ]
     },
     "execution_count": 31,
     "metadata": {},
     "output_type": "execute_result"
    }
   ],
   "source": [
    "w_prime_v=w_prime.subs({x:3})\n",
    "w_prime_v\n"
   ]
  },
  {
   "cell_type": "code",
   "execution_count": 32,
   "metadata": {},
   "outputs": [
    {
     "data": {
      "text/latex": [
       "$\\displaystyle \\frac{1458}{5}$"
      ],
      "text/plain": [
       "1458/5"
      ]
     },
     "execution_count": 32,
     "metadata": {},
     "output_type": "execute_result"
    }
   ],
   "source": [
    "t_prime_v=t_prime.subs({x:3})\n",
    "t_prime_v"
   ]
  },
  {
   "cell_type": "code",
   "execution_count": 38,
   "metadata": {},
   "outputs": [],
   "source": [
    "wt_x_prime = sympy.diff(wt_x, x)"
   ]
  },
  {
   "cell_type": "code",
   "execution_count": 35,
   "metadata": {},
   "outputs": [
    {
     "data": {
      "text/latex": [
       "$\\displaystyle 0$"
      ],
      "text/plain": [
       "0"
      ]
     },
     "execution_count": 35,
     "metadata": {},
     "output_type": "execute_result"
    }
   ],
   "source": [
    "wt_x_prime"
   ]
  },
  {
   "cell_type": "code",
   "execution_count": 39,
   "metadata": {},
   "outputs": [
    {
     "data": {
      "text/latex": [
       "$\\displaystyle - \\frac{16}{5}$"
      ],
      "text/plain": [
       "-16/5"
      ]
     },
     "execution_count": 39,
     "metadata": {},
     "output_type": "execute_result"
    }
   ],
   "source": [
    "w_prime_v * t_prime_v"
   ]
  },
  {
   "cell_type": "code",
   "execution_count": 40,
   "metadata": {},
   "outputs": [],
   "source": [
    "wt_x_prime_v=wt_x_prime.subs({x:3})"
   ]
  },
  {
   "cell_type": "code",
   "execution_count": 41,
   "metadata": {},
   "outputs": [
    {
     "data": {
      "text/latex": [
       "$\\displaystyle 0$"
      ],
      "text/plain": [
       "0"
      ]
     },
     "execution_count": 41,
     "metadata": {},
     "output_type": "execute_result"
    }
   ],
   "source": [
    "wt_x_prime_v"
   ]
  },
  {
   "cell_type": "code",
   "execution_count": null,
   "metadata": {},
   "outputs": [],
   "source": []
  }
 ],
 "metadata": {
  "kernelspec": {
   "display_name": "Python 3",
   "language": "python",
   "name": "python3"
  },
  "language_info": {
   "codemirror_mode": {
    "name": "ipython",
    "version": 3
   },
   "file_extension": ".py",
   "mimetype": "text/x-python",
   "name": "python",
   "nbconvert_exporter": "python",
   "pygments_lexer": "ipython3",
   "version": "3.7.3"
  }
 },
 "nbformat": 4,
 "nbformat_minor": 2
}
